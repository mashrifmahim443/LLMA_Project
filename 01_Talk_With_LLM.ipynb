{
 "cells": [
  {
   "cell_type": "code",
   "execution_count": 10,
   "metadata": {},
   "outputs": [],
   "source": [
    "import os\n",
    "from dotenv import load_dotenv, find_dotenv\n",
    "_ = load_dotenv(find_dotenv())"
   ]
  },
  {
   "cell_type": "code",
   "execution_count": 11,
   "metadata": {},
   "outputs": [],
   "source": [
    "from langchain_groq import ChatGroq"
   ]
  },
  {
   "cell_type": "code",
   "execution_count": 23,
   "metadata": {},
   "outputs": [],
   "source": [
    "llmaChatModel=ChatGroq(model=\"llama3-70b-8192\")"
   ]
  },
  {
   "cell_type": "code",
   "execution_count": 24,
   "metadata": {},
   "outputs": [
    {
     "data": {
      "text/plain": [
       "ChatGroq(client=<groq.resources.chat.completions.Completions object at 0x000001C5A8DD24D0>, async_client=<groq.resources.chat.completions.AsyncCompletions object at 0x000001C5A8DA5F90>, model_name='llama3-70b-8192', groq_api_key=SecretStr('**********'))"
      ]
     },
     "execution_count": 24,
     "metadata": {},
     "output_type": "execute_result"
    }
   ],
   "source": [
    "llmaChatModel"
   ]
  },
  {
   "cell_type": "code",
   "execution_count": 25,
   "metadata": {},
   "outputs": [],
   "source": [
    "responce=llmaChatModel.invoke(\"How are you doing today?\")"
   ]
  },
  {
   "cell_type": "code",
   "execution_count": 26,
   "metadata": {},
   "outputs": [
    {
     "name": "stdout",
     "output_type": "stream",
     "text": [
      "content=\"I'm doing well, thank you for asking! I'm a large language model, so I don't have emotions or feelings like humans do, but I'm functioning properly and ready to assist with any questions or tasks you may have. How about you?\" response_metadata={'token_usage': {'completion_tokens': 52, 'prompt_tokens': 16, 'total_tokens': 68, 'completion_time': 0.148571429, 'prompt_time': 0.003342828, 'queue_time': 0.026840429000000002, 'total_time': 0.151914257}, 'model_name': 'llama3-70b-8192', 'system_fingerprint': 'fp_753a4aecf6', 'finish_reason': 'stop', 'logprobs': None} id='run-654b6ec1-9d8f-463e-a987-e9ba3b268d93-0' usage_metadata={'input_tokens': 16, 'output_tokens': 52, 'total_tokens': 68}\n"
     ]
    }
   ],
   "source": [
    "print(responce)"
   ]
  },
  {
   "cell_type": "code",
   "execution_count": 28,
   "metadata": {},
   "outputs": [
    {
     "name": "stdout",
     "output_type": "stream",
     "text": [
      "content='' id='run-58db5bdb-ad75-4734-aa5e-0aaa9411c1c5'content='I' id='run-58db5bdb-ad75-4734-aa5e-0aaa9411c1c5'content=\"'m\" id='run-58db5bdb-ad75-4734-aa5e-0aaa9411c1c5'content=' doing' id='run-58db5bdb-ad75-4734-aa5e-0aaa9411c1c5'content=' well' id='run-58db5bdb-ad75-4734-aa5e-0aaa9411c1c5'content=',' id='run-58db5bdb-ad75-4734-aa5e-0aaa9411c1c5'content=' thank' id='run-58db5bdb-ad75-4734-aa5e-0aaa9411c1c5'content=' you' id='run-58db5bdb-ad75-4734-aa5e-0aaa9411c1c5'content=' for' id='run-58db5bdb-ad75-4734-aa5e-0aaa9411c1c5'content=' asking' id='run-58db5bdb-ad75-4734-aa5e-0aaa9411c1c5'content='!' id='run-58db5bdb-ad75-4734-aa5e-0aaa9411c1c5'content=' I' id='run-58db5bdb-ad75-4734-aa5e-0aaa9411c1c5'content=\"'m\" id='run-58db5bdb-ad75-4734-aa5e-0aaa9411c1c5'content=' a' id='run-58db5bdb-ad75-4734-aa5e-0aaa9411c1c5'content=' large' id='run-58db5bdb-ad75-4734-aa5e-0aaa9411c1c5'content=' language' id='run-58db5bdb-ad75-4734-aa5e-0aaa9411c1c5'content=' model' id='run-58db5bdb-ad75-4734-aa5e-0aaa9411c1c5'content=',' id='run-58db5bdb-ad75-4734-aa5e-0aaa9411c1c5'content=' so' id='run-58db5bdb-ad75-4734-aa5e-0aaa9411c1c5'content=' I' id='run-58db5bdb-ad75-4734-aa5e-0aaa9411c1c5'content=' don' id='run-58db5bdb-ad75-4734-aa5e-0aaa9411c1c5'content=\"'t\" id='run-58db5bdb-ad75-4734-aa5e-0aaa9411c1c5'content=' have' id='run-58db5bdb-ad75-4734-aa5e-0aaa9411c1c5'content=' emotions' id='run-58db5bdb-ad75-4734-aa5e-0aaa9411c1c5'content=' or' id='run-58db5bdb-ad75-4734-aa5e-0aaa9411c1c5'content=' feelings' id='run-58db5bdb-ad75-4734-aa5e-0aaa9411c1c5'content=' like' id='run-58db5bdb-ad75-4734-aa5e-0aaa9411c1c5'content=' humans' id='run-58db5bdb-ad75-4734-aa5e-0aaa9411c1c5'content=' do' id='run-58db5bdb-ad75-4734-aa5e-0aaa9411c1c5'content=',' id='run-58db5bdb-ad75-4734-aa5e-0aaa9411c1c5'content=' but' id='run-58db5bdb-ad75-4734-aa5e-0aaa9411c1c5'content=' I' id='run-58db5bdb-ad75-4734-aa5e-0aaa9411c1c5'content=\"'m\" id='run-58db5bdb-ad75-4734-aa5e-0aaa9411c1c5'content=' functioning' id='run-58db5bdb-ad75-4734-aa5e-0aaa9411c1c5'content=' properly' id='run-58db5bdb-ad75-4734-aa5e-0aaa9411c1c5'content=' and' id='run-58db5bdb-ad75-4734-aa5e-0aaa9411c1c5'content=' ready' id='run-58db5bdb-ad75-4734-aa5e-0aaa9411c1c5'content=' to' id='run-58db5bdb-ad75-4734-aa5e-0aaa9411c1c5'content=' assist' id='run-58db5bdb-ad75-4734-aa5e-0aaa9411c1c5'content=' with' id='run-58db5bdb-ad75-4734-aa5e-0aaa9411c1c5'content=' any' id='run-58db5bdb-ad75-4734-aa5e-0aaa9411c1c5'content=' questions' id='run-58db5bdb-ad75-4734-aa5e-0aaa9411c1c5'content=' or' id='run-58db5bdb-ad75-4734-aa5e-0aaa9411c1c5'content=' tasks' id='run-58db5bdb-ad75-4734-aa5e-0aaa9411c1c5'content=' you' id='run-58db5bdb-ad75-4734-aa5e-0aaa9411c1c5'content=' may' id='run-58db5bdb-ad75-4734-aa5e-0aaa9411c1c5'content=' have' id='run-58db5bdb-ad75-4734-aa5e-0aaa9411c1c5'content='.' id='run-58db5bdb-ad75-4734-aa5e-0aaa9411c1c5'content=' How' id='run-58db5bdb-ad75-4734-aa5e-0aaa9411c1c5'content=' can' id='run-58db5bdb-ad75-4734-aa5e-0aaa9411c1c5'content=' I' id='run-58db5bdb-ad75-4734-aa5e-0aaa9411c1c5'content=' help' id='run-58db5bdb-ad75-4734-aa5e-0aaa9411c1c5'content=' you' id='run-58db5bdb-ad75-4734-aa5e-0aaa9411c1c5'content=' today' id='run-58db5bdb-ad75-4734-aa5e-0aaa9411c1c5'content='?' id='run-58db5bdb-ad75-4734-aa5e-0aaa9411c1c5'content='' response_metadata={'finish_reason': 'stop'} id='run-58db5bdb-ad75-4734-aa5e-0aaa9411c1c5' usage_metadata={'input_tokens': 16, 'output_tokens': 55, 'total_tokens': 71}"
     ]
    }
   ],
   "source": [
    "for chunk in llmaChatModel.stream(\n",
    "    \"How are you doing today?\"\n",
    "):\n",
    "    print(chunk, end=\"\",flush=True)"
   ]
  },
  {
   "cell_type": "code",
   "execution_count": 31,
   "metadata": {},
   "outputs": [],
   "source": [
    "creative_model=llmaChatModel=ChatGroq(model=\"llama3-70b-8192\",temperature=0.9)"
   ]
  },
  {
   "cell_type": "code",
   "execution_count": 32,
   "metadata": {},
   "outputs": [],
   "source": [
    "answer=creative_model.invoke(\"How are you doing today?\")"
   ]
  },
  {
   "cell_type": "code",
   "execution_count": 33,
   "metadata": {},
   "outputs": [
    {
     "data": {
      "text/plain": [
       "AIMessage(content='I\\'m just a language model, I don\\'t have emotions or feelings like humans do, so I don\\'t have good or bad days. I\\'m always \"on\" and ready to assist with any questions or tasks you have for me! How can I help you today?', response_metadata={'token_usage': {'completion_tokens': 56, 'prompt_tokens': 16, 'total_tokens': 72, 'completion_time': 0.16, 'prompt_time': 0.003322968, 'queue_time': 0.016834689, 'total_time': 0.163322968}, 'model_name': 'llama3-70b-8192', 'system_fingerprint': 'fp_753a4aecf6', 'finish_reason': 'stop', 'logprobs': None}, id='run-d80082b6-8aeb-4eba-be6a-215f081b51b3-0', usage_metadata={'input_tokens': 16, 'output_tokens': 56, 'total_tokens': 72})"
      ]
     },
     "execution_count": 33,
     "metadata": {},
     "output_type": "execute_result"
    }
   ],
   "source": [
    "answer"
   ]
  },
  {
   "cell_type": "code",
   "execution_count": 34,
   "metadata": {},
   "outputs": [],
   "source": [
    "answer1=creative_model.invoke(\"Whats the meaning of life?\")"
   ]
  },
  {
   "cell_type": "code",
   "execution_count": 36,
   "metadata": {},
   "outputs": [
    {
     "name": "stdout",
     "output_type": "stream",
     "text": [
      "content=\"The eternal question! The meaning of life is a topic that has puzzled philosophers, theologians, scientists, and many others for centuries. There is no one definitive answer, as it's a complex and subjective question that can vary greatly from person to person. Here are some perspectives to consider:\\n\\n**Philosophical perspectives:**\\n\\n1. **Hedonism**: The pursuit of pleasure and happiness is the primary goal of human existence.\\n2. **Eudaimonia** (Aristotle): Living a virtuous, fulfilling, and meaningful life, characterized by happiness, flourishing, and personal growth.\\n3. **Existentialism**: Life has no inherent meaning, and we must create our own purpose and meaning through our choices and actions.\\n4. **Absurdism** (Albert Camus): Life is inherently meaningless, but we can create our own meaning by living with authenticity and purpose despite this absurdity.\\n\\n**Religious and spiritual perspectives:**\\n\\n1. **Theism**: Life's meaning is connected to a higher power or deity, often revolving around worship, obedience, and spiritual growth.\\n2. **Buddhism**: The ultimate goal is to achieve enlightenment and liberation from the cycle of suffering, through practices like mindfulness and compassion.\\n3. **Hinduism**: Life's purpose is to fulfill one's duty (dharma) and achieve spiritual growth, leading to self-realization and liberation.\\n\\n**Scientific perspectives:**\\n\\n1. **Evolutionary theory**: Life's meaning is to survive, reproduce, and adapt to our environment, driven by the imperatives of evolution.\\n2. **Biological perspective**: Life's purpose is to maintain homeostasis, grow, and reproduce, ensuring the continuation of the species.\\n\\n**Psychological perspectives:**\\n\\n1. **Self-actualization** (Abraham Maslow): Life's meaning is to realize one's full potential, pursue personal growth, and find purpose through fulfilling one's values and needs.\\n2. **Positive psychology**: Life's meaning is to cultivate happiness, well-being, and positive relationships through practices like gratitude, mindfulness, and flow.\\n\\n**Personal perspectives:**\\n\\nUltimately, the meaning of life is a deeply personal and subjective question. Some people find meaning in:\\n\\n1. **Relationships**: Building strong connections with others, family, and friends.\\n2. **Personal growth**: Pursuing self-improvement, learning, and overcoming challenges.\\n3. **Creative expression**: Engaging in art, music, writing, or other forms of creative expression.\\n4. **Helping others**: Making a positive impact on the world, through volunteering, charity, or other forms of altruism.\\n5. **Pursuing passions**: Following one's interests, hobbies, and passions, and finding joy and fulfillment in them.\\n\\nRemember, these are just a few examples of the many perspectives on the meaning of life. Ultimately, it's up to each individual to explore, reflect, and find their own purpose and meaning in life.\" response_metadata={'token_usage': {'completion_tokens': 605, 'prompt_tokens': 16, 'total_tokens': 621, 'completion_time': 1.790364718, 'prompt_time': 0.004078602, 'queue_time': 0.093740867, 'total_time': 1.79444332}, 'model_name': 'llama3-70b-8192', 'system_fingerprint': 'fp_2f30b0b571', 'finish_reason': 'stop', 'logprobs': None} id='run-4569beb8-ebfa-481f-9d73-3693e1c17939-0' usage_metadata={'input_tokens': 16, 'output_tokens': 605, 'total_tokens': 621}\n"
     ]
    }
   ],
   "source": [
    "print(answer1)"
   ]
  },
  {
   "cell_type": "code",
   "execution_count": 37,
   "metadata": {},
   "outputs": [
    {
     "data": {
      "text/plain": [
       "\"The eternal question! The meaning of life is a topic that has puzzled philosophers, theologians, scientists, and many others for centuries. There is no one definitive answer, as it's a complex and subjective question that can vary greatly from person to person. Here are some perspectives to consider:\\n\\n**Philosophical perspectives:**\\n\\n1. **Hedonism**: The pursuit of pleasure and happiness is the primary goal of human existence.\\n2. **Eudaimonia** (Aristotle): Living a virtuous, fulfilling, and meaningful life, characterized by happiness, flourishing, and personal growth.\\n3. **Existentialism**: Life has no inherent meaning, and we must create our own purpose and meaning through our choices and actions.\\n4. **Absurdism** (Albert Camus): Life is inherently meaningless, but we can create our own meaning by living with authenticity and purpose despite this absurdity.\\n\\n**Religious and spiritual perspectives:**\\n\\n1. **Theism**: Life's meaning is connected to a higher power or deity, often revolving around worship, obedience, and spiritual growth.\\n2. **Buddhism**: The ultimate goal is to achieve enlightenment and liberation from the cycle of suffering, through practices like mindfulness and compassion.\\n3. **Hinduism**: Life's purpose is to fulfill one's duty (dharma) and achieve spiritual growth, leading to self-realization and liberation.\\n\\n**Scientific perspectives:**\\n\\n1. **Evolutionary theory**: Life's meaning is to survive, reproduce, and adapt to our environment, driven by the imperatives of evolution.\\n2. **Biological perspective**: Life's purpose is to maintain homeostasis, grow, and reproduce, ensuring the continuation of the species.\\n\\n**Psychological perspectives:**\\n\\n1. **Self-actualization** (Abraham Maslow): Life's meaning is to realize one's full potential, pursue personal growth, and find purpose through fulfilling one's values and needs.\\n2. **Positive psychology**: Life's meaning is to cultivate happiness, well-being, and positive relationships through practices like gratitude, mindfulness, and flow.\\n\\n**Personal perspectives:**\\n\\nUltimately, the meaning of life is a deeply personal and subjective question. Some people find meaning in:\\n\\n1. **Relationships**: Building strong connections with others, family, and friends.\\n2. **Personal growth**: Pursuing self-improvement, learning, and overcoming challenges.\\n3. **Creative expression**: Engaging in art, music, writing, or other forms of creative expression.\\n4. **Helping others**: Making a positive impact on the world, through volunteering, charity, or other forms of altruism.\\n5. **Pursuing passions**: Following one's interests, hobbies, and passions, and finding joy and fulfillment in them.\\n\\nRemember, these are just a few examples of the many perspectives on the meaning of life. Ultimately, it's up to each individual to explore, reflect, and find their own purpose and meaning in life.\""
      ]
     },
     "execution_count": 37,
     "metadata": {},
     "output_type": "execute_result"
    }
   ],
   "source": [
    "answer1.content"
   ]
  },
  {
   "cell_type": "code",
   "execution_count": 38,
   "metadata": {},
   "outputs": [
    {
     "data": {
      "text/plain": [
       "{'token_usage': {'completion_tokens': 605,\n",
       "  'prompt_tokens': 16,\n",
       "  'total_tokens': 621,\n",
       "  'completion_time': 1.790364718,\n",
       "  'prompt_time': 0.004078602,\n",
       "  'queue_time': 0.093740867,\n",
       "  'total_time': 1.79444332},\n",
       " 'model_name': 'llama3-70b-8192',\n",
       " 'system_fingerprint': 'fp_2f30b0b571',\n",
       " 'finish_reason': 'stop',\n",
       " 'logprobs': None}"
      ]
     },
     "execution_count": 38,
     "metadata": {},
     "output_type": "execute_result"
    }
   ],
   "source": [
    "answer1.response_metadata"
   ]
  }
 ],
 "metadata": {
  "kernelspec": {
   "display_name": ".venv",
   "language": "python",
   "name": "python3"
  },
  "language_info": {
   "codemirror_mode": {
    "name": "ipython",
    "version": 3
   },
   "file_extension": ".py",
   "mimetype": "text/x-python",
   "name": "python",
   "nbconvert_exporter": "python",
   "pygments_lexer": "ipython3",
   "version": "3.11.9"
  }
 },
 "nbformat": 4,
 "nbformat_minor": 2
}
